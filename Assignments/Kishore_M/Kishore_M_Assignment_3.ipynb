{
  "metadata": {
    "language_info": {
      "codemirror_mode": {
        "name": "python",
        "version": 3
      },
      "file_extension": ".py",
      "mimetype": "text/x-python",
      "name": "python",
      "nbconvert_exporter": "python",
      "pygments_lexer": "ipython3",
      "version": "3.8"
    },
    "kernelspec": {
      "name": "python",
      "display_name": "Python (Pyodide)",
      "language": "python"
    }
  },
  "nbformat_minor": 4,
  "nbformat": 4,
  "cells": [
    {
      "cell_type": "markdown",
      "source": "#Answer the questions or complete the tasks outlined in bold below, use the specific method described if applicable.\n\n#** What is 7 to the power of 4?**\n",
      "metadata": {}
    },
    {
      "cell_type": "code",
      "source": "7**4",
      "metadata": {
        "trusted": true
      },
      "execution_count": 3,
      "outputs": [
        {
          "execution_count": 3,
          "output_type": "execute_result",
          "data": {
            "text/plain": "2401"
          },
          "metadata": {}
        }
      ]
    },
    {
      "cell_type": "markdown",
      "source": "\n\n** Split this string:**\n\ns = \"Hi there Sam!\"\n\ninto a list.\n",
      "metadata": {}
    },
    {
      "cell_type": "code",
      "source": "lst = \"Hi there Sam!\"\nprint(lst.split())",
      "metadata": {
        "trusted": true
      },
      "execution_count": 4,
      "outputs": [
        {
          "name": "stdout",
          "text": "['Hi', 'there', 'Sam!']\n",
          "output_type": "stream"
        }
      ]
    },
    {
      "cell_type": "markdown",
      "source": "* Given the variables:**\n\nplanet = \"Earth\"\ndiameter = 12742\n\n** Use .format() to print the following string: **\n\nThe diameter of Earth is 12742 kilometers.\n",
      "metadata": {}
    },
    {
      "cell_type": "code",
      "source": "planet = \"Earth\"\ndiameter = 12742\n",
      "metadata": {
        "trusted": true
      },
      "execution_count": 5,
      "outputs": []
    },
    {
      "cell_type": "code",
      "source": "print(\"The diameter of {} is {} kilometers.\".format(planet,diameter))\n",
      "metadata": {
        "trusted": true
      },
      "execution_count": 6,
      "outputs": [
        {
          "name": "stdout",
          "text": "The diameter of Earth is 12742 kilometers.\n",
          "output_type": "stream"
        }
      ]
    },
    {
      "cell_type": "markdown",
      "source": "** Given this nested list, use indexing to grab the word \"hello\" **",
      "metadata": {}
    },
    {
      "cell_type": "code",
      "source": "lst = [1,2,[3,4],[5,[100,200,['hello']],23,11],1,7]",
      "metadata": {
        "trusted": true
      },
      "execution_count": 7,
      "outputs": []
    },
    {
      "cell_type": "code",
      "source": "lst[3][1][2][0]",
      "metadata": {
        "trusted": true
      },
      "execution_count": 8,
      "outputs": [
        {
          "execution_count": 8,
          "output_type": "execute_result",
          "data": {
            "text/plain": "'hello'"
          },
          "metadata": {}
        }
      ]
    },
    {
      "cell_type": "markdown",
      "source": "** Given this nest dictionary grab the word \"hello\". Be prepared, this will be annoying/tricky **",
      "metadata": {}
    },
    {
      "cell_type": "code",
      "source": "d = {'k1':[1,2,3,{'tricky':['oh','man','inception',{'target':[1,2,3,'hello']}]}]}\n\nd['k1'][3]['tricky'][3]['target'][3]\n",
      "metadata": {
        "trusted": true
      },
      "execution_count": 9,
      "outputs": [
        {
          "execution_count": 9,
          "output_type": "execute_result",
          "data": {
            "text/plain": "'hello'"
          },
          "metadata": {}
        }
      ]
    },
    {
      "cell_type": "markdown",
      "source": "** What is the main difference between a tuple and a list? **",
      "metadata": {}
    },
    {
      "cell_type": "markdown",
      "source": "# Tuple is immutable\n\n** Create a function that grabs the email website domain from a string in the form: **\n\n#user@domain.com\n\n#So for example, passing \"user@domain.com\" would return: domain.com",
      "metadata": {}
    },
    {
      "cell_type": "code",
      "source": "def domainGet(email):\n    return email.split('@')[-1]",
      "metadata": {
        "trusted": true
      },
      "execution_count": 10,
      "outputs": []
    },
    {
      "cell_type": "code",
      "source": "domainGet('user@domain.com')",
      "metadata": {
        "trusted": true
      },
      "execution_count": 11,
      "outputs": [
        {
          "execution_count": 11,
          "output_type": "execute_result",
          "data": {
            "text/plain": "'domain.com'"
          },
          "metadata": {}
        }
      ]
    },
    {
      "cell_type": "markdown",
      "source": "** Create a basic function that returns True if the word 'dog' is contained in the input string. Don't worry about edge cases like a punctuation being attached to the word dog, but do account for capitalization. **",
      "metadata": {}
    },
    {
      "cell_type": "code",
      "source": "def findDog(st):\n    return 'dog' in st.lower().split()\n\nfindDog('Is there a dog here?')",
      "metadata": {
        "trusted": true
      },
      "execution_count": 12,
      "outputs": [
        {
          "execution_count": 12,
          "output_type": "execute_result",
          "data": {
            "text/plain": "True"
          },
          "metadata": {}
        }
      ]
    },
    {
      "cell_type": "markdown",
      "source": "** Create a function that counts the number of times the word \"dog\" occurs in a string. Again ignore edge cases. **",
      "metadata": {}
    },
    {
      "cell_type": "code",
      "source": "def countDog(st):\n    count = 0\n    for word in st.lower().split():\n        if word == 'dog':\n            count += 1\n    return count\n\ncountDog('This dog runs faster than the other dog dude!')",
      "metadata": {
        "trusted": true
      },
      "execution_count": 13,
      "outputs": [
        {
          "execution_count": 13,
          "output_type": "execute_result",
          "data": {
            "text/plain": "2"
          },
          "metadata": {}
        }
      ]
    },
    {
      "cell_type": "markdown",
      "source": "\nProblem\n\nYou are driving a little too fast, and a police officer stops you. Write a function to return one of 3 possible results: \"No ticket\", \"Small ticket\", or \"Big Ticket\". If your speed is 60 or less, the result is \"No Ticket\". If speed is between 61 and 80 inclusive, the result is \"Small Ticket\". If speed is 81 or more, the result is \"Big Ticket\". Unless it is your birthday (encoded as a boolean value in the parameters of the function) -- on your birthday, your speed can be 5 higher in all cases.",
      "metadata": {}
    },
    {
      "cell_type": "code",
      "source": "def caught_speeding(speed, is_birthday):\n    \n    if is_birthday:\n        speeding = speed - 5\n    else:\n        speeding = speed\n    \n    if speeding > 80:\n        return 'Big Ticket'\n    elif speeding > 60:\n        return 'Small Ticket'\n    else:\n        return 'No Ticket'\n\ncaught_speeding(81,False)",
      "metadata": {
        "trusted": true
      },
      "execution_count": 14,
      "outputs": [
        {
          "execution_count": 14,
          "output_type": "execute_result",
          "data": {
            "text/plain": "'Big Ticket'"
          },
          "metadata": {}
        }
      ]
    },
    {
      "cell_type": "code",
      "source": "caught_speeding(81,True)",
      "metadata": {
        "trusted": true
      },
      "execution_count": 15,
      "outputs": [
        {
          "execution_count": 15,
          "output_type": "execute_result",
          "data": {
            "text/plain": "'Small Ticket'"
          },
          "metadata": {}
        }
      ]
    },
    {
      "cell_type": "markdown",
      "source": "Create an employee list with basic salary values(at least 5 values for 5 employees) and using a for loop retreive each employee salary and calculate total salary expenditure.",
      "metadata": {}
    },
    {
      "cell_type": "code",
      "source": "a = {'empid1':1,'empname1':'ajay','basicpay1':2000,\n     'empid2':2,'empname2':'surya','basicpay2':1000,\n     'empid3':3,'empname3':'balaji','basicpay3':3000,\n     'empid4':4,'empname4':'sivesh','basicpay4':2000,\n     'empid5':5,'empname5':'bragadesh','basicpay5':2000}\nb ={'dptname':'IT','dptid':12707}\nc = {}\ntotal = 0",
      "metadata": {
        "trusted": true
      },
      "execution_count": 16,
      "outputs": []
    },
    {
      "cell_type": "markdown",
      "source": "\n\nCreate two dictionaries in Python:\n\nFirst one to contain fields as Empid, Empname, Basicpay\n\nSecond dictionary to contain fields as DeptName, DeptId.\n\nCombine both dictionaries.",
      "metadata": {}
    },
    {
      "cell_type": "code",
      "source": "for i in (a,b):\n  c.update(i)\navalue = c.values()\nalist = list(avalue)\nfor i in range(2,15,3):\n    total+=alist[i]\nprint(\"total salary expenditure\", total)",
      "metadata": {
        "trusted": true
      },
      "execution_count": 17,
      "outputs": [
        {
          "name": "stdout",
          "text": "total salary expenditure 10000\n",
          "output_type": "stream"
        }
      ]
    }
  ]
}